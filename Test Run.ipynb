{
 "cells": [
  {
   "cell_type": "code",
   "execution_count": 1,
   "metadata": {},
   "outputs": [],
   "source": [
    "from dragonfly.model import Model\n",
    "from ladybug.location import Location\n",
    "from dragonfly.building import Building\n",
    "from dragonfly.story import Story\n",
    "from dragonfly.room2d import Room2D\n",
    "from dragonfly.windowparameter import SimpleWindowRatio\n",
    "from honeybee_energy.lib.programtypes import office_program\n",
    "from ladybug_geometry.geometry3d.pointvector import Point3D\n",
    "from ladybug_geometry.geometry3d.face import Face3D\n",
    "\n",
    "#https://github.com/ladybug-tools/honeybee-energy/blob/master/honeybee_energy/config.py\n",
    "from honeybee_energy.config import folders"
   ]
  },
  {
   "cell_type": "code",
   "execution_count": 2,
   "metadata": {},
   "outputs": [
    {
     "name": "stdout",
     "output_type": "stream",
     "text": [
      "/usr/local/openstudio-3.3.0/EnergyPlus\n",
      "/usr/local/openstudio-3.3.0/bin\n",
      "/usr/local/openstudio-3.3.0/EnergyPlus/Energy+.idd\n",
      "None\n"
     ]
    }
   ],
   "source": [
    "print(folders.energyplus_path)\n",
    "print(folders.openstudio_path)\n",
    "print(folders.energyplus_idd_path)\n",
    "print(folders.honeybee_openstudio_gem_path)"
   ]
  },
  {
   "cell_type": "code",
   "execution_count": 3,
   "metadata": {},
   "outputs": [],
   "source": [
    "# create the Building object\n",
    "pts_1 = (Point3D(0, 0, 3), Point3D(0, 10, 3), Point3D(10, 10, 3), Point3D(10, 0, 3))\n",
    "pts_2 = (Point3D(10, 0, 3), Point3D(10, 10, 3), Point3D(20, 10, 3), Point3D(20, 0, 3))\n",
    "pts_3 = (Point3D(0, 10, 3), Point3D(0, 20, 3), Point3D(10, 20, 3), Point3D(10, 10, 3))\n",
    "pts_4 = (Point3D(10, 10, 3), Point3D(10, 20, 3), Point3D(20, 20, 3), Point3D(20, 10, 3))\n",
    "room2d_1 = Room2D('Office1', Face3D(pts_1), 3)\n",
    "room2d_2 = Room2D('Office2', Face3D(pts_2), 3)\n",
    "room2d_3 = Room2D('Office3', Face3D(pts_3), 3)\n",
    "room2d_4 = Room2D('Office4', Face3D(pts_4), 3)\n",
    "story = Story('OfficeFloor', [room2d_1, room2d_2, room2d_3, room2d_4])\n",
    "story.solve_room_2d_adjacency(0.01)\n",
    "story.set_outdoor_window_parameters(SimpleWindowRatio(0.4))\n",
    "story.multiplier = 4\n",
    "building = Building('OfficeBuilding', [story])\n",
    "\n",
    "# assign energy properties\n",
    "for room in story.room_2ds:\n",
    "    room.properties.energy.program_type = office_program\n",
    "    room.properties.energy.add_default_ideal_air()\n",
    "\n",
    "# create the Model object\n",
    "model = Model('NewDevelopment2', [building])"
   ]
  },
  {
   "cell_type": "code",
   "execution_count": 4,
   "metadata": {},
   "outputs": [],
   "source": [
    "# create the dragonfly Model object\n",
    "model = Model('NewDevelopment2', [building])\n",
    "hb_models = model.to_honeybee('Building', use_multiplier=False, tolerance=0.01)\n",
    "idfs = [hb_model.to.idf(hb_model) for hb_model in hb_models]"
   ]
  },
  {
   "cell_type": "code",
   "execution_count": 5,
   "metadata": {},
   "outputs": [
    {
     "data": {
      "text/plain": [
       "'/root/simulation/test.hbjson'"
      ]
     },
     "execution_count": 5,
     "metadata": {},
     "output_type": "execute_result"
    }
   ],
   "source": [
    "hb_model = hb_models[0]\n",
    "hbjson_loc = hb_model.to_hbjson('test.hbjson')\n",
    "hbjson_loc"
   ]
  },
  {
   "cell_type": "code",
   "execution_count": 10,
   "metadata": {},
   "outputs": [
    {
     "name": "stdout",
     "output_type": "stream",
     "text": [
      "/mount/oswmodel/workflow.osw\n"
     ]
    }
   ],
   "source": [
    "# https://github.com/ladybug-tools/honeybee-energy/blob/master/honeybee_energy/run.py\n",
    "from honeybee_energy.run import from_idf_osw, to_openstudio_osw, run_osw\n",
    "osw = to_openstudio_osw('/mount/oswmodel', \n",
    "                        model_path=hbjson_loc,\n",
    "                        epw_file='/mount/weather/USA_IL_Chicago.OHare.Intl.AP.725300_TMYx.epw',\n",
    "#                         additional_measures=['reports'],\n",
    "#                         report_units='ip',\n",
    "                        schedule_directory='/mount/scheds')\n",
    "print(osw)\n",
    "run_out = run_osw(osw)\n",
    "#from_idf_osw(\"basic.idf\", model_path='/hbmodel', osw_directory='oswmodel')"
   ]
  },
  {
   "cell_type": "code",
   "execution_count": 8,
   "metadata": {},
   "outputs": [
    {
     "data": {
      "text/plain": [
       "(None, None)"
      ]
     },
     "execution_count": 8,
     "metadata": {},
     "output_type": "execute_result"
    }
   ],
   "source": [
    "run_out"
   ]
  },
  {
   "cell_type": "code",
   "execution_count": 14,
   "metadata": {},
   "outputs": [],
   "source": [
    "from honeybee_energy.writer import model_to_idf\n",
    "with open(\"basic.idf\", \"w\") as txt:\n",
    "    txt.write(model_to_idf(hb_model))\n"
   ]
  },
  {
   "cell_type": "code",
   "execution_count": 30,
   "metadata": {},
   "outputs": [
    {
     "name": "stdout",
     "output_type": "stream",
     "text": [
      "/usr/local/openstudio-3.3.0/EnergyPlus\n",
      "/usr/local/openstudio-3.3.0/EnergyPlus/Energy+.idd\n"
     ]
    }
   ],
   "source": []
  },
  {
   "cell_type": "code",
   "execution_count": null,
   "metadata": {},
   "outputs": [],
   "source": []
  }
 ],
 "metadata": {
  "kernelspec": {
   "display_name": "Python 3",
   "language": "python",
   "name": "python3"
  },
  "language_info": {
   "codemirror_mode": {
    "name": "ipython",
    "version": 3
   },
   "file_extension": ".py",
   "mimetype": "text/x-python",
   "name": "python",
   "nbconvert_exporter": "python",
   "pygments_lexer": "ipython3",
   "version": "3.6.9"
  }
 },
 "nbformat": 4,
 "nbformat_minor": 2
}
